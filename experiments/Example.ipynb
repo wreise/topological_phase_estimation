{
 "cells": [
  {
   "cell_type": "markdown",
   "metadata": {},
   "source": [
    "# Example of estimation of N and segmentation\n",
    "\n",
    "This notebook illustrates the estimation of $N$ and the segmentation on a particular example."
   ]
  },
  {
   "cell_type": "code",
   "execution_count": null,
   "metadata": {},
   "outputs": [],
   "source": [
    "%load_ext autoreload\n",
    "%autoreload 2"
   ]
  },
  {
   "cell_type": "code",
   "execution_count": null,
   "metadata": {},
   "outputs": [],
   "source": [
    "import numpy as np\n",
    "from gudhi import plot_persistence_diagram\n",
    "\n",
    "import matplotlib.pyplot as plt\n",
    "\n",
    "from segmentation.estimation_n import estimate_N, estimate_N_from_tree, estimate_N_with_clustering\n",
    "from segmentation.homology import signal_to_diagram\n",
    "from segmentation.plotting_utils import plot_intervals, plot_segmentation\n",
    "from segmentation.segmentation import segment_signal_with_clustering\n",
    "\n",
    "from f_forms import get_f\n",
    "from process_utils import get_distance, get_GP"
   ]
  },
  {
   "cell_type": "code",
   "execution_count": null,
   "metadata": {},
   "outputs": [],
   "source": [
    "np.random.seed(37)"
   ]
  },
  {
   "cell_type": "markdown",
   "metadata": {},
   "source": [
    "Consider the following $f$."
   ]
  },
  {
   "cell_type": "code",
   "execution_count": null,
   "metadata": {},
   "outputs": [],
   "source": [
    "f = get_f(1)\n",
    "t = np.linspace(0., 2.5, 100)\n",
    "_ = plt.plot(t, f(t))\n",
    "_ = plt.xlabel(r\"$t$\"), plt.ylabel(r\"$f$\")"
   ]
  },
  {
   "cell_type": "markdown",
   "metadata": {},
   "source": [
    "We generate a random $\\gamma$, for $N=13$."
   ]
  },
  {
   "cell_type": "code",
   "execution_count": null,
   "metadata": {},
   "outputs": [],
   "source": [
    "N = 13\n",
    "t, gamma, _ = get_distance(N=N)\n",
    "plt.plot(t, gamma)\n",
    "_ = plt.xlabel(r\"$t$\"), plt.ylabel(r\"$\\gamma$\")"
   ]
  },
  {
   "cell_type": "markdown",
   "metadata": {},
   "source": [
    "We define $S = (f\\circ\\gamma)(t) + W$."
   ]
  },
  {
   "cell_type": "code",
   "execution_count": null,
   "metadata": {},
   "outputs": [],
   "source": [
    "W = get_GP(t, 0.1, 0.05, 1)[:, 0]\n",
    "\n",
    "signal = f(gamma)\n",
    "S = signal + W\n",
    "_ = plt.plot(t, signal, '--', alpha=0.5, label=r\"$f\\circ\\gamma$\")\n",
    "_ = plt.plot(t, S, label=r\"$S$\")\n",
    "_ = plt.legend()\n",
    "_ = plt.tight_layout()"
   ]
  },
  {
   "cell_type": "markdown",
   "metadata": {},
   "source": [
    "Even on the noisy signal, the persistence shows two clusters, that we will try to identify in the estimation."
   ]
  },
  {
   "cell_type": "code",
   "execution_count": null,
   "metadata": {},
   "outputs": [],
   "source": [
    "dgm = signal_to_diagram(S)\n",
    "_ = plot_persistence_diagram(dgm)"
   ]
  },
  {
   "cell_type": "markdown",
   "metadata": {},
   "source": [
    "We set $\\tau=0.5$"
   ]
  },
  {
   "cell_type": "code",
   "execution_count": null,
   "metadata": {},
   "outputs": [],
   "source": [
    "tau = 0.5\n",
    "N_hat = estimate_N(dgm, tau)\n",
    "print(f\"The estimated N is {N_hat}.\")"
   ]
  },
  {
   "cell_type": "markdown",
   "metadata": {},
   "source": [
    "We test the estimator introduced in section 6.1 on this example and we plot the function $h_S$."
   ]
  },
  {
   "cell_type": "code",
   "execution_count": null,
   "metadata": {},
   "outputs": [],
   "source": [
    "N_hat, N_intervals = estimate_N_from_tree(dgm, return_intervals=True)\n",
    "_ = plot_intervals(N_intervals)\n",
    "_ = plt.title(r\"$\\tau\\mapsto h_S(\\tau)$\")\n",
    "_ = plt.ylabel(r\"$\\hat{N}_c(S,\\tau)$\")\n",
    "_ = plt.xlabel(r\"$\\tau$\")\n",
    "print(f\"The estimated N is {N_hat}.\")"
   ]
  },
  {
   "cell_type": "markdown",
   "metadata": {},
   "source": [
    "We pick $\\tau=0.3$ and we verify that the estimation with clustering leads to the same estimation of N."
   ]
  },
  {
   "cell_type": "code",
   "execution_count": null,
   "metadata": {},
   "outputs": [],
   "source": [
    "tau = 0.35\n",
    "estimate_N_with_clustering(dgm, tau)"
   ]
  },
  {
   "cell_type": "markdown",
   "metadata": {},
   "source": [
    "Finally, we segment the signal."
   ]
  },
  {
   "cell_type": "code",
   "execution_count": null,
   "metadata": {
    "scrolled": true
   },
   "outputs": [],
   "source": [
    "segmentation = segment_signal_with_clustering(S, tau)\n",
    "plot_segmentation(S, segmentation)"
   ]
  },
  {
   "cell_type": "markdown",
   "metadata": {},
   "source": [
    "If we choose a different scale, for example $\\tau=0.5$, we see only a single segmentation, made of the more prominent local minima."
   ]
  },
  {
   "cell_type": "code",
   "execution_count": null,
   "metadata": {
    "scrolled": true
   },
   "outputs": [],
   "source": [
    "segmentation = segment_signal_with_clustering(S, 0.5)\n",
    "plot_segmentation(S, segmentation)"
   ]
  },
  {
   "cell_type": "code",
   "execution_count": null,
   "metadata": {},
   "outputs": [],
   "source": []
  }
 ],
 "metadata": {
  "kernelspec": {
   "display_name": "Python 3 (ipykernel)",
   "language": "python",
   "name": "python3"
  },
  "language_info": {
   "codemirror_mode": {
    "name": "ipython",
    "version": 3
   },
   "file_extension": ".py",
   "mimetype": "text/x-python",
   "name": "python",
   "nbconvert_exporter": "python",
   "pygments_lexer": "ipython3",
   "version": "3.8.13"
  }
 },
 "nbformat": 4,
 "nbformat_minor": 4
}
